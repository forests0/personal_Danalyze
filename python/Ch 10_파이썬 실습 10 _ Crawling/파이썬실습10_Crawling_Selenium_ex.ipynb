{
 "cells": [
  {
   "cell_type": "markdown",
   "metadata": {},
   "source": [
    "# 10.Crawling\n",
    "## Part 2. Selenium\n",
    "\n",
    "Selenium 웹 크롤링 라이브러리로, Webdriver API를 사용한다.  \n",
    "이를 통해 운영체제에 설치한 크롬 등 브라우저를 직접 띄워 HTML을 가져오는 방식으로 볼 수 있기 때문에 직관적이고 편리하다.\n",
    "\n",
    "* Colab에서는 웹드라이버로 내부 창을 띄울 수 없으므로, 사용은 할 수 있지만 장점이 사라진다.  \n",
    "* Anaconda 최신 버전으로 설치한 Jupiter Notebook 에서는 Selenium을 별도 설치 없이 사용할 수 있다."
   ]
  },
  {
   "cell_type": "markdown",
   "metadata": {},
   "source": [
    "### 2-1. Chrome Webdriver 설치하기\n",
    "\n",
    " 1) 크롬 버전 확인하기  \n",
    "\n",
    "크롬 맞춤설정 및 제어 > 도움말 > Chrome 정보\n",
    "\n",
    " 2) 버전에 맞는 구글 웹드라이버 설치하기  \n",
    "Chrome Webdriver download: https://chromedriver.chromium.org/downloads  "
   ]
  },
  {
   "cell_type": "code",
   "execution_count": null,
   "metadata": {},
   "outputs": [],
   "source": [
    "import ______ as __\n",
    "from _________ import _________\n",
    "import ____\n",
    "import ______\n",
    "from ___ import _________"
   ]
  },
  {
   "cell_type": "code",
   "execution_count": null,
   "metadata": {},
   "outputs": [],
   "source": [
    "#Selenium이 어떻게 동작하는지 확인하자\n",
    "\n",
    "#웹 드라이버 불러오기\n",
    "driver = _______.______(r'C:\\Users\\user\\Desktop\\Fastcampus\\10_Crawling\\chromedriver_win32\\chromedriver.exe')\n",
    "\n",
    "driver._____________(30) #불러오는데 걸리는 시간 기다려주기\n",
    "\n",
    "#아무 뉴스 기사의 url을 가져와서 확인해보기\n",
    "url = '_'\n",
    "driver.get(url)"
   ]
  },
  {
   "cell_type": "code",
   "execution_count": null,
   "metadata": {},
   "outputs": [],
   "source": [
    "driver = _______.______(r'C:\\Users\\user\\Desktop\\Fastcampus\\10_Crawling\\chromedriver_win32\\chromedriver.exe')\n",
    "driver._____________(30)\n",
    "\n",
    "#동적인 화면은 어떨까?\n",
    "url = '_'\n",
    "driver.get(url)"
   ]
  },
  {
   "cell_type": "markdown",
   "metadata": {},
   "source": [
    "### 2-2. 유튜브 댓글 가져오기"
   ]
  },
  {
   "cell_type": "code",
   "execution_count": null,
   "metadata": {},
   "outputs": [],
   "source": [
    "#콜드플레이 뮤비 아래 달려있는 댓글을 가져와보자!\n",
    "\n",
    "#유튜브 링크\n",
    "url = '_'\n",
    "\n",
    "#웹드라이버 가져오기\n",
    "driver = _______.______(r'C:\\Users\\user\\Desktop\\Fastcampus\\10_Crawling\\chromedriver_win32\\chromedriver.exe')\n",
    "driver._____________(5)\n",
    "driver.get(___)\n",
    "\n",
    "time.sleep(1.5)\n",
    "\n",
    "#driver.execute_script(\"window.scrollTo(0, 800)\")\n",
    "#time.sleep(3)"
   ]
  },
  {
   "cell_type": "code",
   "execution_count": null,
   "metadata": {},
   "outputs": [],
   "source": [
    "#전체 스크롤의 크기 확인하기\n",
    "last_height = driver.execute_script('return document.documentElement.scrollHeight')\n",
    "last_height"
   ]
  },
  {
   "cell_type": "code",
   "execution_count": null,
   "metadata": {},
   "outputs": [],
   "source": [
    "#댓글 일부가 아니라 처음부터 끝까지 가져오자\n",
    "\n",
    "#전체 스크롤의 크기 확인하기\n",
    "last_height = ______._____________('return document.documentElement.scrollHeight')\n",
    "\n",
    "#스크롤하다가 전체 스크롤의 크기와 같아지면 종료한다\n",
    "while True:\n",
    "    driver._____________('window.scrollTo(0, document.documentElement.scrollHeight);') #스크롤 끝까지 내리기\n",
    "    time.____(3)\n",
    "    ___________ = driver.execute_script('return document.documentElement.scrollHeight') #다시 스크롤 크기 가져오기\n",
    "    if ___________ == ___________:\n",
    "        break\n",
    "    ___________ = ___________\n",
    "\n",
    "time.sleep(1.5)"
   ]
  },
  {
   "cell_type": "code",
   "execution_count": null,
   "metadata": {},
   "outputs": [],
   "source": [
    "reply_html = driver.___________\n",
    "soup = ________________(_________, 'html.parser')"
   ]
  },
  {
   "cell_type": "code",
   "execution_count": null,
   "metadata": {},
   "outputs": [],
   "source": [
    "#크롬 개발자 도구를 활용해서 댓글 작성자 명(id)과 댓글 내용(contents)이 어디에 있는지 확인하자\n",
    "#작성자 명은 headear-author인 div태그 안에 있는 a태그안에 들어있다\n",
    "#댓글 내용은 content-text인 yt-formatted-string태그 안에 값이 들어있다\n",
    "\n",
    "idlist = soup.______(\"div#header-author > h3 > #author-text > span\")\n",
    "comment = soup.______(\"yt-formatted-string#content-text\")"
   ]
  },
  {
   "cell_type": "code",
   "execution_count": null,
   "metadata": {},
   "outputs": [],
   "source": [
    "#가져온 내용 확인하기\n",
    "for i in range(len(______)): \n",
    "    print(______[i].______, ______[i].______)"
   ]
  },
  {
   "cell_type": "code",
   "execution_count": null,
   "metadata": {},
   "outputs": [],
   "source": [
    "id_new = [] \n",
    "comment_new = [] \n",
    "\n",
    "for i in range(len(idlist)):\n",
    "    cln_id = ______[i].______ #태그 빼고 글만 보기\n",
    "    cln_id = cln_id.______('\\n', '') \n",
    "    cln_id = cln_id.______('\\t', '')\n",
    "    cln_id = cln_id.______('    ', '')\n",
    "    id_new.______(cln_id)\n",
    "\n",
    "    cln_comment = ______[i].______\n",
    "    cln_comment = cln_comment.______('\\n', '')\n",
    "    cln_comment = cln_comment.______('\\t', '')\n",
    "    cln_comment = cln_comment.______('    ', '')\n",
    "    comment_new.______(cln_comment)"
   ]
  },
  {
   "cell_type": "code",
   "execution_count": null,
   "metadata": {},
   "outputs": [],
   "source": [
    "#가져온 내용 확인하기\n",
    "for i in range(len(id_new)): \n",
    "    print(______[i], ______[i])"
   ]
  },
  {
   "cell_type": "code",
   "execution_count": null,
   "metadata": {},
   "outputs": [],
   "source": [
    "#Dataframe 안에 넣어서 쓸수 있게 만들어주기\n",
    "df = {\"ID\":______, \"Comment\":______} \n",
    "drive_df = pd.______(df)"
   ]
  },
  {
   "cell_type": "code",
   "execution_count": null,
   "metadata": {},
   "outputs": [],
   "source": [
    "drive_df.head()"
   ]
  },
  {
   "cell_type": "code",
   "execution_count": null,
   "metadata": {},
   "outputs": [],
   "source": [
    "drive_df.info()"
   ]
  },
  {
   "cell_type": "code",
   "execution_count": null,
   "metadata": {},
   "outputs": [],
   "source": []
  }
 ],
 "metadata": {
  "kernelspec": {
   "display_name": "Python 3",
   "language": "python",
   "name": "python3"
  },
  "language_info": {
   "codemirror_mode": {
    "name": "ipython",
    "version": 3
   },
   "file_extension": ".py",
   "mimetype": "text/x-python",
   "name": "python",
   "nbconvert_exporter": "python",
   "pygments_lexer": "ipython3",
   "version": "3.8.5"
  }
 },
 "nbformat": 4,
 "nbformat_minor": 4
}
