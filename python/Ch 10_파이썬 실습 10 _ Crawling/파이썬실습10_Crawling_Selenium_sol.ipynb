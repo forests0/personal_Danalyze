{
 "cells": [
  {
   "cell_type": "markdown",
   "metadata": {},
   "source": [
    "# 10.Crawling\n",
    "## Part 2. Selenium\n",
    "\n",
    "Selenium 웹 크롤링 라이브러리로, Webdriver API를 사용한다.  \n",
    "이를 통해 운영체제에 설치한 크롬 등 브라우저를 직접 띄워 HTML을 가져오는 방식으로 볼 수 있기 때문에 직관적이고 편리하다.\n",
    "\n",
    "* Colab에서는 웹드라이버로 내부 창을 띄울 수 없으므로, 사용은 할 수 있지만 장점이 사라진다.  \n",
    "* Anaconda 최신 버전으로 설치한 Jupiter Notebook 에서는 Selenium을 별도 설치 없이 사용할 수 있다."
   ]
  },
  {
   "cell_type": "markdown",
   "metadata": {},
   "source": [
    "### 2-1. Chrome Webdriver 설치하기\n",
    "\n",
    " 1) 크롬 버전 확인하기  \n",
    "\n",
    "크롬 맞춤설정 및 제어 > 도움말 > Chrome 정보\n",
    "\n",
    " 2) 버전에 맞는 구글 웹드라이버 설치하기  \n",
    "Chrome Webdriver download: https://chromedriver.chromium.org/downloads  "
   ]
  },
  {
   "cell_type": "code",
   "execution_count": 1,
   "metadata": {},
   "outputs": [],
   "source": [
    "import pandas as pd\n",
    "from selenium import webdriver\n",
    "import time\n",
    "import requests\n",
    "from bs4 import BeautifulSoup"
   ]
  },
  {
   "cell_type": "code",
   "execution_count": 2,
   "metadata": {},
   "outputs": [],
   "source": [
    "#Selenium이 어떻게 동작하는지 확인하자\n",
    "\n",
    "#웹 드라이버 불러오기\n",
    "driver = webdriver.Chrome(r'C:\\Users\\user\\Desktop\\Fastcampus\\10_Crawling\\chromedriver_win32\\chromedriver.exe')\n",
    "\n",
    "driver.implicitly_wait(30) #불러오는데 걸리는 시간 기다려주기\n",
    "\n",
    "url = 'https://www.mk.co.kr/news/business/view/2021/06/569407/?utm_source=naver&utm_medium=newsstand'\n",
    "driver.get(url)"
   ]
  },
  {
   "cell_type": "code",
   "execution_count": 4,
   "metadata": {},
   "outputs": [],
   "source": [
    "driver = webdriver.Chrome(r'C:\\Users\\user\\Desktop\\Fastcampus\\10_Crawling\\chromedriver_win32\\chromedriver.exe')\n",
    "driver.implicitly_wait(30)\n",
    "\n",
    "url = 'https://www.youtube.com/watch?v=3WOwa0lWEz4'\n",
    "driver.get(url)"
   ]
  },
  {
   "cell_type": "markdown",
   "metadata": {},
   "source": [
    "### 2-2. 유튜브 댓글 가져오기"
   ]
  },
  {
   "cell_type": "code",
   "execution_count": 5,
   "metadata": {},
   "outputs": [],
   "source": [
    "#콜드플레이 뮤비 아래 달려있는 댓글을 가져와보자!\n",
    "\n",
    "#유튜브 링크\n",
    "url = 'https://www.youtube.com/watch?v=3WOwa0lWEz4'\n",
    "\n",
    "#웹드라이버 가져오기\n",
    "driver = webdriver.Chrome(r'C:\\Users\\user\\Desktop\\Fastcampus\\10_Crawling\\chromedriver_win32\\chromedriver.exe')\n",
    "driver.implicitly_wait(3)\n",
    "driver.get(url)\n",
    "\n",
    "time.sleep(1.5)\n",
    "\n",
    "#driver.execute_script(\"window.scrollTo(0, 800)\")\n",
    "#time.sleep(3)"
   ]
  },
  {
   "cell_type": "code",
   "execution_count": 6,
   "metadata": {},
   "outputs": [],
   "source": [
    "#댓글 일부가 아니라 처음부터 끝까지 가져오자\n",
    "\n",
    "#전체 스크롤의 크기 확인하기\n",
    "last_height = driver.execute_script('return document.documentElement.scrollHeight')\n",
    "\n",
    "#스크롤하다가 전체 스크롤의 크기와 같아지면 종료한다\n",
    "while True:\n",
    "    driver.execute_script('window.scrollTo(0, document.documentElement.scrollHeight);') #스크롤 끝까지 내리기\n",
    "    time.sleep(3)\n",
    "    now_height = driver.execute_script('return document.documentElement.scrollHeight') #다시 스크롤 크기 가져오기\n",
    "    if now_height == last_height:\n",
    "        break\n",
    "    last_height = now_height\n",
    "\n",
    "time.sleep(1.5)"
   ]
  },
  {
   "cell_type": "code",
   "execution_count": 7,
   "metadata": {},
   "outputs": [],
   "source": [
    "reply_html = driver.page_source\n",
    "soup = BeautifulSoup(reply_html, 'html.parser')"
   ]
  },
  {
   "cell_type": "code",
   "execution_count": 8,
   "metadata": {},
   "outputs": [],
   "source": [
    "#크롬 개발자 도구를 활용해서 댓글 작성자 명(id)과 댓글 내용(contents)이 어디에 있는지 확인하자\n",
    "#작성자 명은 headear-author인 div태그 안에 있는 a태그안에 들어있다\n",
    "#댓글 내용은 content-text인 yt-formatted-string태그 안에 값이 들어있다\n",
    "\n",
    "idlist = soup.select(\"div#header-author > h3 > #author-text > span\")\n",
    "comment = soup.select(\"yt-formatted-string#content-text\")"
   ]
  },
  {
   "cell_type": "code",
   "execution_count": 9,
   "metadata": {},
   "outputs": [
    {
     "name": "stdout",
     "output_type": "stream",
     "text": [
      "\n",
      "              블럭도사꾸삐 KUPI\n",
      "             가슴이 웅장해진다….\n",
      "\n",
      "              Charming Jo 조매력\n",
      "             EPICO...\n",
      "\n",
      "              포키포TV (POKIPO TV)\n",
      "             look at this!  In Korea, there is a coolness that vivid colors give.  If you found it in this music video, you have the best eyes.\n",
      "\n",
      "              Sara Alves\n",
      "             Esta música do Coldplay é de arrepiar,quem ouvir triste se alegra na hora.\n",
      "\n",
      "              satisfaction707 produced\n",
      "             Скучаю по Кореи. Много друзей обрел со всего света. Best regards!\n",
      "\n",
      "              Project Nightfall\n",
      "             This song is so catchy that I want to dance even if I am horrible at dancing. :) I can't wait to hear a full new album of Coldplay.\n",
      "\n",
      "              Drifter\n",
      "             This is better than the official video.\n",
      "\n",
      "              촉촉한궁뎅이\n",
      "             한국인데 한국가고싶어지는 이느낌은 뭐지ㅋㅋㅋㅋㄱㅋㄱㅋㅋ\n",
      "\n",
      "              oioi59\n",
      "             한국 GD는 삐딱하게를 영국 골목에서 찍고 영국 콜드플레이는 한국 골목에서 찍고\n",
      "\n",
      "              JUN\n",
      "             \"나는 우리나라가 남의 것을 모방하는 나라가 되지 말고 이러한 높고 새로운 문화의 근원이 되고 목표가 되고 모범이 되길 원한다\" - 백범 김구\n",
      "\n",
      "              Patricia Boer\n",
      "             I'm in love with Seoul. Can't wait to visit in 2023 🇰🇷❤\n",
      "\n",
      "              한울하람\n",
      "             나 어렸을때만해도 서양권 국가에서 동양하면 생각하는 이미지는 거의 일본이었는데... 우리나라 문화의 힘이 정말 세계로 뻗어나가는걸 느낀다 ㅎㅎ\n",
      "\n",
      "              dark future\n",
      "             This video is much better and makes much more sense than the official music video..\n",
      "\n",
      "              Myke Ross\n",
      "             After the aera of capricorn comes aquarius. Now were in Pisces. You can tell.\n",
      "\n",
      "              Jon Richards\n",
      "             In a parallel universe, I am a member of The Ambiguous Dance Company and having the best life.\n",
      "\n",
      "              Minh Anh\n",
      "             beautiful song\n",
      "\n",
      "              MS\n",
      "             이정도면 뮤비가 아니라 한국 관광공사홍보 영상인데? ㅋㅋㅋㅋㅋ\n",
      "\n",
      "              이태이\n",
      "             콜드플레이\n",
      "한국에 대한 진심이 느껴진다\n",
      "코비 끝나면 내한 광클로 성공하겟어~~♡\n",
      "\n",
      "              Виктор Белоус\n",
      "             Позитивчик🙂💯👂💯👍КрасаВЧиКИ ! Танец необычный что-то новенькое,посмотрел и жыть охота.\n",
      "\n",
      "              Cory Greaves\n",
      "             Seriously. Seriously I didn't like this song at all the first time I watched the og music video. But then I saw these guys dancing around the city and it's grown on me so much I'm playing it on repeat.\n"
     ]
    }
   ],
   "source": [
    "#가져온 내용 확인하기\n",
    "for i in range(len(idlist)): \n",
    "    print(idlist[i].text, comment[i].text)"
   ]
  },
  {
   "cell_type": "code",
   "execution_count": 10,
   "metadata": {},
   "outputs": [],
   "source": [
    "id_new = [] \n",
    "comment_new = [] \n",
    "\n",
    "for i in range(len(idlist)):\n",
    "    cln_id = idlist[i].text #태그 빼고 글만 보기\n",
    "    cln_id = cln_id.replace('\\n', '') \n",
    "    cln_id = cln_id.replace('\\t', '')\n",
    "    cln_id = cln_id.replace('    ', '')\n",
    "    id_new.append(cln_id)\n",
    "\n",
    "    cln_comment = comment[i].text\n",
    "    cln_comment = cln_comment.replace('\\n', '')\n",
    "    cln_comment = cln_comment.replace('\\t', '')\n",
    "    cln_comment = cln_comment.replace('    ', '')\n",
    "    comment_new.append(cln_comment)"
   ]
  },
  {
   "cell_type": "code",
   "execution_count": 11,
   "metadata": {},
   "outputs": [
    {
     "name": "stdout",
     "output_type": "stream",
     "text": [
      "  블럭도사꾸삐 KUPI 가슴이 웅장해진다….\n",
      "  Charming Jo 조매력 EPICO...\n",
      "  포키포TV (POKIPO TV) look at this!  In Korea, there is a coolness that vivid colors give.  If you found it in this music video, you have the best eyes.\n",
      "  Sara Alves Esta música do Coldplay é de arrepiar,quem ouvir triste se alegra na hora.\n",
      "  satisfaction707 produced Скучаю по Кореи. Много друзей обрел со всего света. Best regards!\n",
      "  Project Nightfall This song is so catchy that I want to dance even if I am horrible at dancing. :) I can't wait to hear a full new album of Coldplay.\n",
      "  Drifter This is better than the official video.\n",
      "  촉촉한궁뎅이 한국인데 한국가고싶어지는 이느낌은 뭐지ㅋㅋㅋㅋㄱㅋㄱㅋㅋ\n",
      "  oioi59 한국 GD는 삐딱하게를 영국 골목에서 찍고 영국 콜드플레이는 한국 골목에서 찍고\n",
      "  JUN \"나는 우리나라가 남의 것을 모방하는 나라가 되지 말고 이러한 높고 새로운 문화의 근원이 되고 목표가 되고 모범이 되길 원한다\" - 백범 김구\n",
      "  Patricia Boer I'm in love with Seoul. Can't wait to visit in 2023 🇰🇷❤\n",
      "  한울하람 나 어렸을때만해도 서양권 국가에서 동양하면 생각하는 이미지는 거의 일본이었는데... 우리나라 문화의 힘이 정말 세계로 뻗어나가는걸 느낀다 ㅎㅎ\n",
      "  dark future This video is much better and makes much more sense than the official music video..\n",
      "  Myke Ross After the aera of capricorn comes aquarius. Now were in Pisces. You can tell.\n",
      "  Jon Richards In a parallel universe, I am a member of The Ambiguous Dance Company and having the best life.\n",
      "  Minh Anh beautiful song\n",
      "  MS 이정도면 뮤비가 아니라 한국 관광공사홍보 영상인데? ㅋㅋㅋㅋㅋ\n",
      "  이태이 콜드플레이한국에 대한 진심이 느껴진다코비 끝나면 내한 광클로 성공하겟어~~♡\n",
      "  Виктор Белоус Позитивчик🙂💯👂💯👍КрасаВЧиКИ ! Танец необычный что-то новенькое,посмотрел и жыть охота.\n",
      "  Cory Greaves Seriously. Seriously I didn't like this song at all the first time I watched the og music video. But then I saw these guys dancing around the city and it's grown on me so much I'm playing it on repeat.\n"
     ]
    }
   ],
   "source": [
    "#가져온 내용 확인하기\n",
    "for i in range(len(id_new)): \n",
    "    print(id_new[i], comment_new[i])"
   ]
  },
  {
   "cell_type": "code",
   "execution_count": 12,
   "metadata": {},
   "outputs": [],
   "source": [
    "#Dataframe 안에 넣어서 쓸수 있게 만들어주기\n",
    "df = {\"ID\":id_new, \"Comment\":comment_new} \n",
    "drive_df = pd.DataFrame(df)"
   ]
  },
  {
   "cell_type": "code",
   "execution_count": 13,
   "metadata": {},
   "outputs": [
    {
     "data": {
      "text/html": [
       "<div>\n",
       "<style scoped>\n",
       "    .dataframe tbody tr th:only-of-type {\n",
       "        vertical-align: middle;\n",
       "    }\n",
       "\n",
       "    .dataframe tbody tr th {\n",
       "        vertical-align: top;\n",
       "    }\n",
       "\n",
       "    .dataframe thead th {\n",
       "        text-align: right;\n",
       "    }\n",
       "</style>\n",
       "<table border=\"1\" class=\"dataframe\">\n",
       "  <thead>\n",
       "    <tr style=\"text-align: right;\">\n",
       "      <th></th>\n",
       "      <th>ID</th>\n",
       "      <th>Comment</th>\n",
       "    </tr>\n",
       "  </thead>\n",
       "  <tbody>\n",
       "    <tr>\n",
       "      <th>0</th>\n",
       "      <td>블럭도사꾸삐 KUPI</td>\n",
       "      <td>가슴이 웅장해진다….</td>\n",
       "    </tr>\n",
       "    <tr>\n",
       "      <th>1</th>\n",
       "      <td>Charming Jo 조매력</td>\n",
       "      <td>EPICO...</td>\n",
       "    </tr>\n",
       "    <tr>\n",
       "      <th>2</th>\n",
       "      <td>포키포TV (POKIPO TV)</td>\n",
       "      <td>look at this!  In Korea, there is a coolness t...</td>\n",
       "    </tr>\n",
       "    <tr>\n",
       "      <th>3</th>\n",
       "      <td>Sara Alves</td>\n",
       "      <td>Esta música do Coldplay é de arrepiar,quem ouv...</td>\n",
       "    </tr>\n",
       "    <tr>\n",
       "      <th>4</th>\n",
       "      <td>satisfaction707 produced</td>\n",
       "      <td>Скучаю по Кореи. Много друзей обрел со всего с...</td>\n",
       "    </tr>\n",
       "  </tbody>\n",
       "</table>\n",
       "</div>"
      ],
      "text/plain": [
       "                           ID  \\\n",
       "0                 블럭도사꾸삐 KUPI   \n",
       "1             Charming Jo 조매력   \n",
       "2           포키포TV (POKIPO TV)   \n",
       "3                  Sara Alves   \n",
       "4    satisfaction707 produced   \n",
       "\n",
       "                                             Comment  \n",
       "0                                        가슴이 웅장해진다….  \n",
       "1                                           EPICO...  \n",
       "2  look at this!  In Korea, there is a coolness t...  \n",
       "3  Esta música do Coldplay é de arrepiar,quem ouv...  \n",
       "4  Скучаю по Кореи. Много друзей обрел со всего с...  "
      ]
     },
     "execution_count": 13,
     "metadata": {},
     "output_type": "execute_result"
    }
   ],
   "source": [
    "drive_df.head()"
   ]
  },
  {
   "cell_type": "code",
   "execution_count": 14,
   "metadata": {},
   "outputs": [
    {
     "name": "stdout",
     "output_type": "stream",
     "text": [
      "<class 'pandas.core.frame.DataFrame'>\n",
      "RangeIndex: 20 entries, 0 to 19\n",
      "Data columns (total 2 columns):\n",
      " #   Column   Non-Null Count  Dtype \n",
      "---  ------   --------------  ----- \n",
      " 0   ID       20 non-null     object\n",
      " 1   Comment  20 non-null     object\n",
      "dtypes: object(2)\n",
      "memory usage: 448.0+ bytes\n"
     ]
    }
   ],
   "source": [
    "drive_df.info()"
   ]
  },
  {
   "cell_type": "code",
   "execution_count": null,
   "metadata": {},
   "outputs": [],
   "source": []
  }
 ],
 "metadata": {
  "kernelspec": {
   "display_name": "Python 3",
   "language": "python",
   "name": "python3"
  },
  "language_info": {
   "codemirror_mode": {
    "name": "ipython",
    "version": 3
   },
   "file_extension": ".py",
   "mimetype": "text/x-python",
   "name": "python",
   "nbconvert_exporter": "python",
   "pygments_lexer": "ipython3",
   "version": "3.8.5"
  }
 },
 "nbformat": 4,
 "nbformat_minor": 4
}
